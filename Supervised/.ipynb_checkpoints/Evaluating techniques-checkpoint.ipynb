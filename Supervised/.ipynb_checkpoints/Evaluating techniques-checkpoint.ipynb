{
 "cells": [
  {
   "cell_type": "code",
   "execution_count": 12,
   "id": "0bf3be75-c7b1-4b6b-9461-5666ecded84f",
   "metadata": {},
   "outputs": [],
   "source": [
    "import numpy as np\n",
    "import math\n",
    "from sklearn.metrics import mean_squared_error\n",
    "from sklearn.metrics import mean_absolute_error\n",
    "from sklearn.metrics import r2_score\n",
    "from sklearn.metrics import accuracy_score\n",
    "from sklearn.metrics import precision_score,recall_score,confusion_matrix"
   ]
  },
  {
   "cell_type": "markdown",
   "id": "22acd831-dc05-44c1-b0df-10ccc11d3928",
   "metadata": {},
   "source": [
    "# <font color=grey> For Supervised Learning models</font>"
   ]
  },
  {
   "cell_type": "markdown",
   "id": "3c32373f-1847-41fb-bf30-6c2238f875a6",
   "metadata": {},
   "source": [
    "### <font color=yellow> For Regression </font>"
   ]
  },
  {
   "cell_type": "markdown",
   "id": "3238d3b5-e99c-41dd-bbe1-6f285c68e1f2",
   "metadata": {},
   "source": [
    "1. Mean square error:-\n",
    "\n",
    "# $ MSE = \\frac{1}{N} \\sum \\limits _{i=1} ^N (Y_{i} - \\hat{Y}_{i})^2$\n",
    "#### $\\hat{Y}_{i}$ = ground_truth\n",
    "#### $Y_{i}$ = predicted_values"
   ]
  },
  {
   "cell_type": "code",
   "execution_count": 13,
   "id": "7bb3efaa-a8aa-4f0e-aeb3-310cc884b857",
   "metadata": {},
   "outputs": [
    {
     "data": {
      "text/plain": [
       "0.47999999999999987"
      ]
     },
     "execution_count": 13,
     "metadata": {},
     "output_type": "execute_result"
    }
   ],
   "source": [
    "ground_truth = np.array([2,4,5,4,5]) \n",
    "predicted_values = np.array([2.8,3.4,4,4.6,5.2])\n",
    "\n",
    "MSE = mean_squared_error(ground_truth,predicted_values)\n",
    "MSE"
   ]
  },
  {
   "cell_type": "markdown",
   "id": "828734b2-ecb4-45fb-bbe6-4dd81b5c3bfc",
   "metadata": {},
   "source": [
    "observation: Lower the MSE higher the model performance"
   ]
  },
  {
   "cell_type": "markdown",
   "id": "25f77854-ecf2-4864-901f-eff02020ad8f",
   "metadata": {},
   "source": [
    "***"
   ]
  },
  {
   "cell_type": "markdown",
   "id": "830d4a56-37c9-40f7-b531-fc16578a6c92",
   "metadata": {},
   "source": [
    "2. Root Mean Square:-\n",
    "# RMSE = $\\sqrt{MSE}$"
   ]
  },
  {
   "cell_type": "code",
   "execution_count": 15,
   "id": "e9584ed0-913c-4db1-8804-3f6691fb4ead",
   "metadata": {},
   "outputs": [
    {
     "data": {
      "text/plain": [
       "0.6928203230275508"
      ]
     },
     "execution_count": 15,
     "metadata": {},
     "output_type": "execute_result"
    }
   ],
   "source": [
    "RMSE = math.sqrt(MSE)\n",
    "RMSE"
   ]
  },
  {
   "cell_type": "markdown",
   "id": "a80dcb0e-a153-49a7-9b60-7ea579ebc85f",
   "metadata": {},
   "source": [
    "observation: Lower the RMSE better the model performance"
   ]
  },
  {
   "cell_type": "markdown",
   "id": "efbbcc15-035b-4309-ade4-0ad099b7f64e",
   "metadata": {},
   "source": [
    "***"
   ]
  },
  {
   "cell_type": "markdown",
   "id": "6cb9ae0a-cb52-412c-8667-8c809f7eff8c",
   "metadata": {},
   "source": [
    "3. Mean Absolute Error:-\n",
    "\n",
    "# MAE = $ \\frac{1}{N} \\sum \\limits _{i=1} ^N |y_{i} - \\hat{x}_{i}| $"
   ]
  },
  {
   "cell_type": "code",
   "execution_count": 16,
   "id": "fabd6ab1-95b6-496a-9b42-1073491b0df1",
   "metadata": {},
   "outputs": [
    {
     "data": {
      "text/plain": [
       "0.6399999999999999"
      ]
     },
     "execution_count": 16,
     "metadata": {},
     "output_type": "execute_result"
    }
   ],
   "source": [
    "\n",
    "MAE = mean_absolute_error(ground_truth,predicted_values)\n",
    "MAE"
   ]
  },
  {
   "cell_type": "markdown",
   "id": "3feef705-0d5c-45a1-b224-66e919fff43c",
   "metadata": {},
   "source": [
    "observation: Lower the MAE better the model performance"
   ]
  },
  {
   "cell_type": "markdown",
   "id": "5c5b2da8-136a-4945-922d-8511a790e1f9",
   "metadata": {},
   "source": [
    "4. R-squared\n",
    "# $R^2 = 1- \\frac{Sum squared regression(SSR)}{total sum of squares(SST)} $\n",
    "# $ R^2 = 1 - \\frac{\\sum (y_i - \\hat{y}_i)^2}{\\sum (y_i - \\bar{y})^2}$"
   ]
  },
  {
   "cell_type": "code",
   "execution_count": 18,
   "id": "a8df829c-028f-434d-9e03-55f455c1b3c3",
   "metadata": {},
   "outputs": [
    {
     "data": {
      "text/plain": [
       "60.00000000000001"
      ]
     },
     "execution_count": 18,
     "metadata": {},
     "output_type": "execute_result"
    }
   ],
   "source": [
    "r2 = r2_score(ground_truth,predicted_values)\n",
    "r2*100"
   ]
  },
  {
   "cell_type": "markdown",
   "id": "271f9b44-647e-4db5-829c-db30c208fd09",
   "metadata": {},
   "source": [
    "observation: Higher the R-square indicates better the model fit"
   ]
  },
  {
   "cell_type": "markdown",
   "id": "99cac98e-ffb7-4a89-b488-1e92fc57bc43",
   "metadata": {},
   "source": [
    "### <font color=yellow> For Classfication </font>"
   ]
  },
  {
   "cell_type": "markdown",
   "id": "48883750-1de8-4a89-8712-6997315d18a5",
   "metadata": {},
   "source": [
    "1. Accuracy:-\n",
    "\n",
    "# $ Accuracy = \\frac{TP + TN}{TP + TN + FP + FN}$"
   ]
  },
  {
   "cell_type": "code",
   "execution_count": 32,
   "id": "121a9669-b8b8-42f1-80a9-f68a0b07986f",
   "metadata": {},
   "outputs": [
    {
     "data": {
      "text/plain": [
       "0.5"
      ]
     },
     "execution_count": 32,
     "metadata": {},
     "output_type": "execute_result"
    }
   ],
   "source": [
    "y_pred = [0, 2, 1, 3]\n",
    "y_true = [0, 1, 2, 3]\n",
    "acc = accuracy_score(y_pred,y_true)\n",
    "acc"
   ]
  },
  {
   "cell_type": "markdown",
   "id": "a5ecd2cc-1021-4f03-9bc9-1a1478d0abba",
   "metadata": {},
   "source": [
    "2. Precission & Recall :-\n",
    "# $ Precission = \\frac{TP}{TP + FP}$\n",
    "\n",
    "# $ Recall = \\frac{TP}{TP +FN}$"
   ]
  },
  {
   "cell_type": "code",
   "execution_count": 8,
   "id": "dad075d1-c360-448b-9800-eefeebad1ab5",
   "metadata": {},
   "outputs": [
    {
     "data": {
      "text/plain": [
       "1.0"
      ]
     },
     "execution_count": 8,
     "metadata": {},
     "output_type": "execute_result"
    }
   ],
   "source": [
    "y_true = [0, 1, 0, 0, 1]\n",
    "y_pred = [0, 1, 1, 0, 1]\n",
    "P = precision_score(y_pred,y_true)\n",
    "P"
   ]
  },
  {
   "cell_type": "code",
   "execution_count": 38,
   "id": "b03c7a29-c917-4418-b636-9503ea91fd3f",
   "metadata": {},
   "outputs": [
    {
     "data": {
      "text/plain": [
       "0.6666666666666666"
      ]
     },
     "execution_count": 38,
     "metadata": {},
     "output_type": "execute_result"
    }
   ],
   "source": [
    "R = recall_score(y_pred,y_true)\n",
    "R"
   ]
  },
  {
   "cell_type": "markdown",
   "id": "10851c55-5c90-4c16-9b41-d5b666305a1a",
   "metadata": {},
   "source": [
    "3. F1 score:-\n",
    "\n",
    "# $ F1 Score = \\frac{2* P*R}{P+R} $"
   ]
  },
  {
   "cell_type": "markdown",
   "id": "b249b422-fa46-4dd5-9151-09c4efaffcf4",
   "metadata": {},
   "source": [
    "4. Confusion Matrix"
   ]
  },
  {
   "cell_type": "code",
   "execution_count": 40,
   "id": "03e5ad94-f579-414d-b971-0765ef2589de",
   "metadata": {},
   "outputs": [
    {
     "data": {
      "text/plain": [
       "array([[2, 0],\n",
       "       [1, 2]])"
      ]
     },
     "execution_count": 40,
     "metadata": {},
     "output_type": "execute_result"
    }
   ],
   "source": [
    "cm = confusion_matrix(y_pred,y_true)\n",
    "cm"
   ]
  },
  {
   "cell_type": "markdown",
   "id": "0ed9806a-b845-473c-b029-b36e53b54904",
   "metadata": {},
   "source": [
    "# <font color=grey> For Unsupervised Learning models</font>"
   ]
  },
  {
   "cell_type": "markdown",
   "id": "30a9203b-a399-4149-a934-a6266c4d9143",
   "metadata": {},
   "source": [
    "1. Silhouette score:-\n",
    "\n",
    "# $ SS = \\frac{b_i - a_i}{max(b_i , a_i)}$"
   ]
  },
  {
   "cell_type": "code",
   "execution_count": 10,
   "id": "14257e5f-83da-4ccd-841b-c1c442cf52e9",
   "metadata": {},
   "outputs": [],
   "source": [
    "from sklearn.datasets import make_blobs\n",
    "from sklearn.cluster import KMeans\n",
    "from sklearn.metrics import silhouette_score\n",
    "from sklearn.metrics import calinski_harabasz_score\n",
    "from sklearn.metrics import adjusted_rand_score\n",
    "from sklearn.metrics import f1_score"
   ]
  },
  {
   "cell_type": "code",
   "execution_count": 5,
   "id": "c3d8b6d9-89b3-4a85-b68b-98e7596e9660",
   "metadata": {},
   "outputs": [
    {
     "data": {
      "text/plain": [
       "0.5955207405315346"
      ]
     },
     "execution_count": 5,
     "metadata": {},
     "output_type": "execute_result"
    }
   ],
   "source": [
    "X,y = make_blobs(n_samples=500,centers=4,random_state=42)\n",
    "kmeans = KMeans(n_clusters=2,random_state=42)\n",
    "ss = silhouette_score(X,kmeans.fit_predict(X))\n",
    "ss"
   ]
  },
  {
   "cell_type": "markdown",
   "id": "f6f44257-c106-48bb-ba99-4c67946d6b4e",
   "metadata": {},
   "source": [
    "2. Calinski Harabasz score:-\n",
    "\n",
    "### $ BGSS(inter cluster) = \\sum \\limits_{k=1} ^K n_k * ||C_k - C||^2 $ \n",
    "### $ WGSS_k(intra cluster) = \\sum \\limits_{i=1} ^{n_k} *||X_ik - C_k||^2$ \n",
    "### $ WGSS = \\sum \\limits_{K=1} ^K WGSS_k$ \n",
    "\n",
    "# $ CH = \\frac{\\frac{BGSS}{K-1}}{\\frac{WGSS}{N-K}} = \\frac{BGSS}{WGSS}* \\frac{N-K}{K-1}$ "
   ]
  },
  {
   "cell_type": "code",
   "execution_count": 6,
   "id": "adc359ae-f7b2-4f36-b733-9ba918ea2bc0",
   "metadata": {},
   "outputs": [
    {
     "data": {
      "text/plain": [
       "574.8890256995833"
      ]
     },
     "execution_count": 6,
     "metadata": {},
     "output_type": "execute_result"
    }
   ],
   "source": [
    "ch = calinski_harabasz_score(X,kmeans.labels_)\n",
    "ch"
   ]
  },
  {
   "cell_type": "markdown",
   "id": "a846c1e9-a64a-4128-9b8d-6fb596ce5f54",
   "metadata": {},
   "source": [
    "observation: Higher the calinski_harabasz_score,better the result"
   ]
  },
  {
   "cell_type": "markdown",
   "id": "b78666d6-3f47-407e-98d0-806dcdc53084",
   "metadata": {},
   "source": [
    "3. Adjust Rand Index:-\n",
    "#  $ARI = \\frac{Index - Expected Index}{max(Index-Expected Index)}$"
   ]
  },
  {
   "cell_type": "code",
   "execution_count": 9,
   "id": "3f9854c2-eb3d-4a34-93c3-8053d6d7aade",
   "metadata": {},
   "outputs": [
    {
     "data": {
      "text/plain": [
       "0.16666666666666666"
      ]
     },
     "execution_count": 9,
     "metadata": {},
     "output_type": "execute_result"
    }
   ],
   "source": [
    "ARI = adjusted_rand_score(y_pred,y_true)\n",
    "ARI"
   ]
  },
  {
   "cell_type": "markdown",
   "id": "4f9191b1-f0e6-4481-a7ce-a82ff66ad910",
   "metadata": {},
   "source": [
    "observation: [-1,1] The higher the ARI value, the closer the two clusterings are to each other.1 indicates perfect agreement "
   ]
  },
  {
   "cell_type": "markdown",
   "id": "7a91655d-1f5a-4c48-9896-7d49aeefaff6",
   "metadata": {},
   "source": [
    "4. F1 score:-\n",
    "\n",
    "# $ F1 Score = \\frac{2* P*R}{P+R} $"
   ]
  },
  {
   "cell_type": "code",
   "execution_count": 11,
   "id": "6ff76de0-8452-42b3-b62d-519868f9b710",
   "metadata": {},
   "outputs": [
    {
     "data": {
      "text/plain": [
       "0.8"
      ]
     },
     "execution_count": 11,
     "metadata": {},
     "output_type": "execute_result"
    }
   ],
   "source": [
    "f1 = f1_score(y_pred,y_true,average=')\n",
    "f1"
   ]
  },
  {
   "cell_type": "markdown",
   "id": "b000bef6-39d6-4142-9597-6ea20bb3e722",
   "metadata": {},
   "source": [
    "observation: A low F1 scoreimplying that the model has trouble striking that balance."
   ]
  },
  {
   "cell_type": "code",
   "execution_count": null,
   "id": "e399c77c-843e-40bf-a7fd-ceac17c6ab70",
   "metadata": {},
   "outputs": [],
   "source": []
  },
  {
   "cell_type": "code",
   "execution_count": null,
   "id": "d807eafc-4e03-4562-a6d0-0f04e7bd9321",
   "metadata": {},
   "outputs": [],
   "source": []
  }
 ],
 "metadata": {
  "kernelspec": {
   "display_name": "Python 3 (ipykernel)",
   "language": "python",
   "name": "python3"
  },
  "language_info": {
   "codemirror_mode": {
    "name": "ipython",
    "version": 3
   },
   "file_extension": ".py",
   "mimetype": "text/x-python",
   "name": "python",
   "nbconvert_exporter": "python",
   "pygments_lexer": "ipython3",
   "version": "3.12.2"
  }
 },
 "nbformat": 4,
 "nbformat_minor": 5
}
